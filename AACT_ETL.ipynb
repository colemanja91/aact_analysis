{
 "cells": [
  {
   "cell_type": "markdown",
   "metadata": {},
   "source": [
    "# AACT Data - ETL\n",
    "\n",
    "Gather flatfiles and output to Parquet format for easy querying. "
   ]
  },
  {
   "cell_type": "code",
   "execution_count": 2,
   "metadata": {
    "collapsed": true
   },
   "outputs": [],
   "source": [
    "aactFacilities = spark \\\n",
    "  .read \\\n",
    "  .option(\"header\", \"true\") \\\n",
    "  .option(\"sep\", \"|\") \\\n",
    "  .csv(\"gs://daasnerds-cracircle/aact/raw/*/facilities.txt\")"
   ]
  },
  {
   "cell_type": "code",
   "execution_count": null,
   "metadata": {
    "collapsed": false
   },
   "outputs": [],
   "source": [
    "aactFacilities.first()"
   ]
  },
  {
   "cell_type": "code",
   "execution_count": 5,
   "metadata": {
    "collapsed": false
   },
   "outputs": [
    {
     "data": {
      "text/plain": [
       "6213394"
      ]
     },
     "execution_count": 5,
     "metadata": {},
     "output_type": "execute_result"
    }
   ],
   "source": [
    "aactFacilities.where(aactFacilities.country == 'United States').count()"
   ]
  },
  {
   "cell_type": "code",
   "execution_count": 6,
   "metadata": {
    "collapsed": false
   },
   "outputs": [
    {
     "data": {
      "text/plain": [
       "3838518"
      ]
     },
     "execution_count": 6,
     "metadata": {},
     "output_type": "execute_result"
    }
   ],
   "source": [
    "aactFacilities \\\n",
    "  .select('id') \\\n",
    "  .where(aactFacilities.country == 'United States') \\\n",
    "  .distinct() \\\n",
    "  .count()"
   ]
  },
  {
   "cell_type": "code",
   "execution_count": 8,
   "metadata": {
    "collapsed": false
   },
   "outputs": [
    {
     "name": "stdout",
     "output_type": "stream",
     "text": [
      "+-------+-----------+------------------+--------------------+-------------+----------+------+-------------+\n",
      "|     id|     nct_id|            status|                name|         city|     state|   zip|      country|\n",
      "+-------+-----------+------------------+--------------------+-------------+----------+------+-------------+\n",
      "|3895145|NCT03228433|        Recruiting|Parexel Internati...|     Glendale|California| 91206|United States|\n",
      "|3895146|NCT03228407|        Recruiting|Hunter Holmes McG...|     Richmond|  Virginia| 23249|United States|\n",
      "|3895147|NCT03228394|        Recruiting|Marinus Research ...|  Little Rock|  Arkansas| 72211|United States|\n",
      "|3895148|NCT03228394|        Recruiting|Marinus Research ...|   Costa Mesa|California| 92626|United States|\n",
      "|3895149|NCT03228394|        Recruiting|Marinus Research ...|National City|California| 91945|United States|\n",
      "|3895150|NCT03228394|        Recruiting|Marinus Research ...| Jacksonville|   Florida| 32216|United States|\n",
      "|3895151|NCT03228394|        Recruiting|Marinus Research ...|       Dayton|      Ohio| 45417|United States|\n",
      "|3895152|NCT03228381|Not yet recruiting|Henry Ford Health...|      Detroit|  Michigan| 48202|United States|\n",
      "|3895153|NCT03228381|Not yet recruiting|Minneapolis Heart...|  Minneapolis| Minnesota| 55407|United States|\n",
      "|3895154|NCT03228381|Not yet recruiting|  Sanatorio Italiano|     Asuncion|      null|  null|     Paraguay|\n",
      "|3895155|NCT03228368|        Recruiting|The First Affilia...|     Hangzhou|  Zhejiang|310003|        China|\n",
      "|3895156|NCT03228355|        Recruiting|Danish headache c...|   Copenhagen|  Glostrup|  2600|      Denmark|\n",
      "|3895157|NCT03228342|        Recruiting|Instituto Naciona...|  Mexico City|      null| 14000|       Mexico|\n",
      "|3895158|NCT03228329|        Recruiting|Kasr Alainy Hospi...|        Cairo|      null|  null|        Egypt|\n",
      "|3895159|NCT03228290|        Recruiting|University of Ark...|  Little Rock|  Arkansas| 72205|United States|\n",
      "|3895160|NCT03228290|        Recruiting|Loma Linda Univer...|   Loma Linda|California| 92354|United States|\n",
      "|3895161|NCT03228290|        Recruiting|University of Cal...|San Francisco|California| 94143|United States|\n",
      "|3895162|NCT03228290|        Recruiting|Northwestern Univ...|      Chicago|  Illinois| 60611|United States|\n",
      "|3895163|NCT03228290|        Recruiting|       Johns Hopkins|    Baltimore|  Maryland| 21287|United States|\n",
      "|3895164|NCT03228290|        Recruiting| Columbia University|     New York|  New York| 10032|United States|\n",
      "+-------+-----------+------------------+--------------------+-------------+----------+------+-------------+\n",
      "only showing top 20 rows\n",
      "\n"
     ]
    }
   ],
   "source": [
    "aactFacilities.show(20)"
   ]
  },
  {
   "cell_type": "code",
   "execution_count": 7,
   "metadata": {
    "collapsed": false
   },
   "outputs": [],
   "source": [
    "aactFacilities \\\n",
    "  .where(aactFacilities.country == 'United States') \\\n",
    "  .write \\\n",
    "  .option(\"partitionBy\", \"state\") \\\n",
    "  .option(\"mode\", \"overwrite\") \\\n",
    "  .parquet(\"gs://daasnerds-cracircle/aact/etl/parquet/facilities\")"
   ]
  }
 ],
 "metadata": {
  "kernelspec": {
   "display_name": "Python 2",
   "language": "python",
   "name": "python2"
  },
  "language_info": {
   "codemirror_mode": {
    "name": "ipython",
    "version": 2
   },
   "file_extension": ".py",
   "mimetype": "text/x-python",
   "name": "python",
   "nbconvert_exporter": "python",
   "pygments_lexer": "ipython2",
   "version": "2.7.12"
  }
 },
 "nbformat": 4,
 "nbformat_minor": 2
}
