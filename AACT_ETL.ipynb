{
 "cells": [
  {
   "cell_type": "markdown",
   "metadata": {},
   "source": [
    "# AACT Data - ETL\n",
    "\n",
    "Gather flatfiles and output to Parquet format for easy querying. "
   ]
  },
  {
   "cell_type": "code",
   "execution_count": 2,
   "metadata": {
    "collapsed": true
   },
   "outputs": [],
   "source": [
    "aactFacilities = spark \\\n",
    "  .read \\\n",
    "  .option(\"header\", \"true\") \\\n",
    "  .option(\"sep\", \"|\") \\\n",
    "  .csv(\"gs://daasnerds-cracircle/aact/raw/*/facilities.txt\")"
   ]
  },
  {
   "cell_type": "code",
   "execution_count": null,
   "metadata": {
    "collapsed": false
   },
   "outputs": [],
   "source": [
    "aactFacilities.first()"
   ]
  },
  {
   "cell_type": "code",
   "execution_count": 5,
   "metadata": {
    "collapsed": false
   },
   "outputs": [
    {
     "data": {
      "text/plain": [
       "6213394"
      ]
     },
     "execution_count": 5,
     "metadata": {},
     "output_type": "execute_result"
    }
   ],
   "source": [
    "aactFacilities.where(aactFacilities.country == 'United States').count()"
   ]
  },
  {
   "cell_type": "code",
   "execution_count": 6,
   "metadata": {
    "collapsed": false
   },
   "outputs": [
    {
     "data": {
      "text/plain": [
       "3838518"
      ]
     },
     "execution_count": 6,
     "metadata": {},
     "output_type": "execute_result"
    }
   ],
   "source": [
    "aactFacilities \\\n",
    "  .select('id') \\\n",
    "  .where(aactFacilities.country == 'United States') \\\n",
    "  .distinct() \\\n",
    "  .count()"
   ]
  },
  {
   "cell_type": "code",
   "execution_count": 7,
   "metadata": {
    "collapsed": false
   },
   "outputs": [],
   "source": [
    "aactFacilities \\\n",
    "  .where(aactFacilities.country == 'United States') \\\n",
    "  .write \\\n",
    "  .option(\"partitionBy\", \"state\") \\\n",
    "  .option(\"mode\", \"overwrite\") \\\n",
    "  .parquet(\"gs://daasnerds-cracircle/aact/etl/parquet/facilities\")"
   ]
  }
 ],
 "metadata": {
  "kernelspec": {
   "display_name": "Python 2",
   "language": "python",
   "name": "python2"
  },
  "language_info": {
   "codemirror_mode": {
    "name": "ipython",
    "version": 2
   },
   "file_extension": ".py",
   "mimetype": "text/x-python",
   "name": "python",
   "nbconvert_exporter": "python",
   "pygments_lexer": "ipython2",
   "version": "2.7.12"
  }
 },
 "nbformat": 4,
 "nbformat_minor": 2
}
