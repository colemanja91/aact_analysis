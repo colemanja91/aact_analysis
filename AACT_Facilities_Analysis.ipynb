{
 "cells": [
  {
   "cell_type": "code",
   "execution_count": 1,
   "metadata": {
    "collapsed": true
   },
   "outputs": [],
   "source": [
    "facilities = spark \\\n",
    "  .read \\\n",
    "  .parquet(\"gs://daasnerds-cracircle/aact/etl/parquet/facilities\")"
   ]
  },
  {
   "cell_type": "code",
   "execution_count": 38,
   "metadata": {
    "collapsed": false
   },
   "outputs": [
    {
     "data": {
      "text/plain": [
       "[Row(state=u'Utah', count=41860),\n",
       " Row(state=u'Hawaii', count=18250),\n",
       " Row(state=u'Minnesota', count=94265),\n",
       " Row(state=u'Ohio', count=212481),\n",
       " Row(state=u'Oregon', count=50174),\n",
       " Row(state=u'Arkansas', count=24445),\n",
       " Row(state=u'Texas', count=243508),\n",
       " Row(state=u'North Dakota', count=14662),\n",
       " Row(state=u'Pennsylvania', count=171056),\n",
       " Row(state=u'Connecticut', count=44284),\n",
       " Row(state=u'Nebraska', count=36783),\n",
       " Row(state=u'Vermont', count=9454),\n",
       " Row(state=u'Nevada', count=35056),\n",
       " Row(state=u'Washington', count=102193),\n",
       " Row(state=u'Illinois', count=180882),\n",
       " Row(state=u'Oklahoma', count=32839),\n",
       " Row(state=u'District of Columbia', count=24419),\n",
       " Row(state=u'Delaware', count=13495),\n",
       " Row(state=u'Alaska', count=6299),\n",
       " Row(state=u'New Mexico', count=16595),\n",
       " Row(state=u'West Virginia', count=10379),\n",
       " Row(state=u'Missouri', count=101384),\n",
       " Row(state=u'Rhode Island', count=16419),\n",
       " Row(state=u'Georgia', count=91451),\n",
       " Row(state=u'Montana', count=32431),\n",
       " Row(state=u'Virginia', count=68969),\n",
       " Row(state=u'Michigan', count=145102),\n",
       " Row(state=u'North Carolina', count=140525),\n",
       " Row(state=u'Wyoming', count=3645),\n",
       " Row(state=u'Kansas', count=70229),\n",
       " Row(state=u'New Jersey', count=74148),\n",
       " Row(state=u'Maryland', count=93973),\n",
       " Row(state=u'Alabama', count=50425),\n",
       " Row(state=u'Arizona', count=66432),\n",
       " Row(state=u'Iowa', count=48186),\n",
       " Row(state=u'Massachusetts', count=103390),\n",
       " Row(state=u'Kentucky', count=42271),\n",
       " Row(state=u'Louisiana', count=46699),\n",
       " Row(state=u'Mississippi', count=15975),\n",
       " Row(state=u'Tennessee', count=79709),\n",
       " Row(state=u'New Hampshire', count=12742),\n",
       " Row(state=u'Florida', count=268835),\n",
       " Row(state=u'Indiana', count=70980),\n",
       " Row(state=u'Idaho', count=17569),\n",
       " Row(state=u'South Carolina', count=69055),\n",
       " Row(state=u'South Dakota', count=11745),\n",
       " Row(state=u'California', count=400911),\n",
       " Row(state=u'New York', count=215994),\n",
       " Row(state=u'Wisconsin', count=80237),\n",
       " Row(state=u'Colorado', count=89043),\n",
       " Row(state=u'Maine', count=10304)]"
      ]
     },
     "execution_count": 38,
     "metadata": {},
     "output_type": "execute_result"
    }
   ],
   "source": [
    "facilities \\\n",
    "  .select(\"id\", \"state\") \\\n",
    "  .distinct() \\\n",
    "  .groupBy(\"state\") \\\n",
    "  .count() \\\n",
    "  .collect()"
   ]
  },
  {
   "cell_type": "markdown",
   "metadata": {},
   "source": [
    "## Analyze facility names for common patterns to eliminate anonymized sites"
   ]
  },
  {
   "cell_type": "code",
   "execution_count": 23,
   "metadata": {
    "collapsed": true
   },
   "outputs": [],
   "source": [
    "facilitiesRDD = facilities.select(\"name\").fillna('').rdd"
   ]
  },
  {
   "cell_type": "code",
   "execution_count": null,
   "metadata": {
    "collapsed": false
   },
   "outputs": [],
   "source": [
    "facilitiesRDD.first()"
   ]
  },
  {
   "cell_type": "code",
   "execution_count": 33,
   "metadata": {
    "collapsed": false
   },
   "outputs": [],
   "source": [
    "from pyspark.sql.functions import *\n",
    "\n",
    "facilitiesWords = facilitiesRDD \\\n",
    "  .map(lambda row: row['name']) \\\n",
    "  .flatMap(lambda line: line.upper().split(\" \")) \\\n",
    "  .map(lambda word: (word, 1)) \\\n",
    "  .reduceByKey(lambda a, b: a + b) \\\n",
    "  .toDF() \\\n",
    "  .filter(col('_1') != '')"
   ]
  },
  {
   "cell_type": "code",
   "execution_count": 34,
   "metadata": {
    "collapsed": false
   },
   "outputs": [
    {
     "data": {
      "text/plain": [
       "60030"
      ]
     },
     "execution_count": 34,
     "metadata": {},
     "output_type": "execute_result"
    }
   ],
   "source": [
    "facilitiesWords.count()"
   ]
  },
  {
   "cell_type": "code",
   "execution_count": 37,
   "metadata": {
    "collapsed": false
   },
   "outputs": [
    {
     "name": "stdout",
     "output_type": "stream",
     "text": [
      "+---------------+-------+\n",
      "|             _1|     _2|\n",
      "+---------------+-------+\n",
      "|         CENTER|1543615|\n",
      "|           SITE|1063821|\n",
      "|             OF| 956118|\n",
      "|        MEDICAL| 921570|\n",
      "|         CANCER| 875661|\n",
      "|     UNIVERSITY| 814824|\n",
      "|       HOSPITAL| 775406|\n",
      "|       RESEARCH| 645561|\n",
      "|INVESTIGATIONAL| 579505|\n",
      "|              -| 485209|\n",
      "|         HEALTH| 294006|\n",
      "|             AT| 257827|\n",
      "|            AND| 247001|\n",
      "|            FOR| 233673|\n",
      "|      INSTITUTE| 226822|\n",
      "|       CLINICAL| 209254|\n",
      "|       ONCOLOGY| 197499|\n",
      "|            GSK| 188266|\n",
      "|  INVESTIGATIVE| 184104|\n",
      "|         CLINIC| 178995|\n",
      "+---------------+-------+\n",
      "only showing top 20 rows\n",
      "\n"
     ]
    }
   ],
   "source": [
    "facilitiesWords.orderBy(col(\"_2\"), ascending=False).show(20)"
   ]
  }
 ],
 "metadata": {
  "kernelspec": {
   "display_name": "Python 2",
   "language": "python",
   "name": "python2"
  },
  "language_info": {
   "codemirror_mode": {
    "name": "ipython",
    "version": 2
   },
   "file_extension": ".py",
   "mimetype": "text/x-python",
   "name": "python",
   "nbconvert_exporter": "python",
   "pygments_lexer": "ipython2",
   "version": "2.7.12"
  }
 },
 "nbformat": 4,
 "nbformat_minor": 2
}
