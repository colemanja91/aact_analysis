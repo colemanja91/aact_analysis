{
 "cells": [
  {
   "cell_type": "code",
   "execution_count": 1,
   "metadata": {
    "collapsed": true,
    "deletable": true,
    "editable": true
   },
   "outputs": [],
   "source": [
    "facilities = spark \\\n",
    "  .read \\\n",
    "  .parquet(\"gs://daasnerds-cracircle/aact/etl/parquet/facilities\")"
   ]
  },
  {
   "cell_type": "code",
   "execution_count": null,
   "metadata": {
    "collapsed": false,
    "deletable": true,
    "editable": true
   },
   "outputs": [],
   "source": [
    "facilities \\\n",
    "  .select(\"id\", \"state\") \\\n",
    "  .distinct() \\\n",
    "  .groupBy(\"state\") \\\n",
    "  .count() \\\n",
    "  .collect()"
   ]
  },
  {
   "cell_type": "code",
   "execution_count": 9,
   "metadata": {
    "collapsed": false
   },
   "outputs": [
    {
     "name": "stdout",
     "output_type": "stream",
     "text": [
      "root\n",
      " |-- id: string (nullable = true)\n",
      " |-- nct_id: string (nullable = true)\n",
      " |-- status: string (nullable = true)\n",
      " |-- name: string (nullable = true)\n",
      " |-- city: string (nullable = true)\n",
      " |-- state: string (nullable = true)\n",
      " |-- zip: string (nullable = true)\n",
      " |-- country: string (nullable = true)\n",
      "\n"
     ]
    }
   ],
   "source": [
    "facilities.printSchema()"
   ]
  },
  {
   "cell_type": "code",
   "execution_count": 12,
   "metadata": {
    "collapsed": true
   },
   "outputs": [],
   "source": [
    "facilitiesAgg = facilities \\\n",
    "  .groupBy(\"name\", \"city\", \"zip\", \"country\") \\\n",
    "  .count().alias(\"count\")"
   ]
  },
  {
   "cell_type": "code",
   "execution_count": 13,
   "metadata": {
    "collapsed": false
   },
   "outputs": [
    {
     "name": "stdout",
     "output_type": "stream",
     "text": [
      "root\n",
      " |-- name: string (nullable = true)\n",
      " |-- city: string (nullable = true)\n",
      " |-- zip: string (nullable = true)\n",
      " |-- country: string (nullable = true)\n",
      " |-- count: long (nullable = false)\n",
      "\n"
     ]
    }
   ],
   "source": [
    "facilitiesAgg.printSchema()"
   ]
  },
  {
   "cell_type": "markdown",
   "metadata": {
    "deletable": true,
    "editable": true
   },
   "source": [
    "## Analyze facility names for common patterns to eliminate anonymized sites"
   ]
  },
  {
   "cell_type": "code",
   "execution_count": 14,
   "metadata": {
    "collapsed": true,
    "deletable": true,
    "editable": true
   },
   "outputs": [],
   "source": [
    "facilitiesRDD = facilitiesAgg.select(\"name\").fillna('').rdd"
   ]
  },
  {
   "cell_type": "code",
   "execution_count": 15,
   "metadata": {
    "collapsed": false,
    "deletable": true,
    "editable": true
   },
   "outputs": [
    {
     "data": {
      "text/plain": [
       "Row(name=u'Meridian Clinical Research')"
      ]
     },
     "execution_count": 15,
     "metadata": {},
     "output_type": "execute_result"
    }
   ],
   "source": [
    "facilitiesRDD.first()"
   ]
  },
  {
   "cell_type": "code",
   "execution_count": 16,
   "metadata": {
    "collapsed": false,
    "deletable": true,
    "editable": true
   },
   "outputs": [],
   "source": [
    "from pyspark.sql.functions import *\n",
    "\n",
    "facilitiesWords = facilitiesRDD \\\n",
    "  .map(lambda row: row['name']) \\\n",
    "  .flatMap(lambda line: line.upper().split(\" \")) \\\n",
    "  .map(lambda word: (word, 1)) \\\n",
    "  .reduceByKey(lambda a, b: a + b) \\\n",
    "  .toDF() \\\n",
    "  .filter(col('_1') != '')"
   ]
  },
  {
   "cell_type": "code",
   "execution_count": 17,
   "metadata": {
    "collapsed": false,
    "deletable": true,
    "editable": true
   },
   "outputs": [
    {
     "data": {
      "text/plain": [
       "60030"
      ]
     },
     "execution_count": 17,
     "metadata": {},
     "output_type": "execute_result"
    }
   ],
   "source": [
    "facilitiesWords.count()"
   ]
  },
  {
   "cell_type": "code",
   "execution_count": 18,
   "metadata": {
    "collapsed": false,
    "deletable": true,
    "editable": true
   },
   "outputs": [
    {
     "name": "stdout",
     "output_type": "stream",
     "text": [
      "+---------------+-----+\n",
      "|             _1|   _2|\n",
      "+---------------+-----+\n",
      "|           SITE|72440|\n",
      "|         CENTER|39453|\n",
      "|INVESTIGATIONAL|37128|\n",
      "|             OF|36384|\n",
      "|       RESEARCH|30836|\n",
      "|     UNIVERSITY|24752|\n",
      "|        MEDICAL|24128|\n",
      "|       HOSPITAL|15901|\n",
      "|              -|14885|\n",
      "|         CANCER|14814|\n",
      "|            FOR|14688|\n",
      "|  INVESTIGATIVE|13256|\n",
      "|       CLINICAL|12801|\n",
      "|            AND|11169|\n",
      "|         HEALTH|11026|\n",
      "|      INSTITUTE| 8604|\n",
      "|      INGELHEIM| 8130|\n",
      "|     BOEHRINGER| 8130|\n",
      "|            THE| 6591|\n",
      "|     ASSOCIATES| 6159|\n",
      "+---------------+-----+\n",
      "only showing top 20 rows\n",
      "\n"
     ]
    }
   ],
   "source": [
    "facilitiesWords.orderBy(col(\"_2\"), ascending=False).show(20)"
   ]
  },
  {
   "cell_type": "markdown",
   "metadata": {},
   "source": [
    "## Write output to pull for local analysis"
   ]
  },
  {
   "cell_type": "code",
   "execution_count": 24,
   "metadata": {
    "collapsed": false
   },
   "outputs": [],
   "source": [
    "facilitiesAgg \\\n",
    "  .repartition(1) \\\n",
    "  .write \\\n",
    "  .option(\"header\", True) \\\n",
    "  .csv(\"gs://daasnerds-cracircle/aact/etl/csv/facilitiesAgg.csv\")"
   ]
  },
  {
   "cell_type": "code",
   "execution_count": null,
   "metadata": {
    "collapsed": true
   },
   "outputs": [],
   "source": [
    "facilitiesWords \\\n",
    "  .repartition(1) \\\n",
    "  .write \\\n",
    "  .option(\"header\", True) \\\n",
    "  .csv(\"gs://daasnerds-cracircle/aact/etl/csv/facilitiesWords.csv\")"
   ]
  }
 ],
 "metadata": {
  "kernelspec": {
   "display_name": "Python 2",
   "language": "python",
   "name": "python2"
  },
  "language_info": {
   "codemirror_mode": {
    "name": "ipython",
    "version": 2
   },
   "file_extension": ".py",
   "mimetype": "text/x-python",
   "name": "python",
   "nbconvert_exporter": "python",
   "pygments_lexer": "ipython2",
   "version": "2.7.14"
  }
 },
 "nbformat": 4,
 "nbformat_minor": 2
}
