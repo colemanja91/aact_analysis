{
 "cells": [
  {
   "cell_type": "markdown",
   "metadata": {},
   "source": [
    "# AACT Data - ETL\n",
    "\n",
    "Gather flatfiles and output to Parquet format for easy querying. "
   ]
  },
  {
   "cell_type": "code",
   "execution_count": 8,
   "metadata": {
    "collapsed": true
   },
   "outputs": [],
   "source": [
    "aactFacilities = spark \\\n",
    "  .read \\\n",
    "  .option(\"header\", \"true\") \\\n",
    "  .option(\"sep\", \"|\") \\\n",
    "  .csv(\"gs://daasnerds-cracircle/aact/raw/*/facilities.txt\")"
   ]
  },
  {
   "cell_type": "code",
   "execution_count": 9,
   "metadata": {
    "collapsed": false
   },
   "outputs": [
    {
     "data": {
      "text/plain": [
       "Row(id=u'3895145', nct_id=u'NCT03228433', status=u'Recruiting', name=u'Parexel International', city=u'Glendale', state=u'California', zip=u'91206', country=u'United States')"
      ]
     },
     "execution_count": 9,
     "metadata": {},
     "output_type": "execute_result"
    }
   ],
   "source": [
    "aactFacilities.first()"
   ]
  },
  {
   "cell_type": "code",
   "execution_count": 14,
   "metadata": {
    "collapsed": false
   },
   "outputs": [
    {
     "data": {
      "text/plain": [
       "13289649"
      ]
     },
     "execution_count": 14,
     "metadata": {},
     "output_type": "execute_result"
    }
   ],
   "source": [
    "aactFacilities.count()"
   ]
  },
  {
   "cell_type": "code",
   "execution_count": 13,
   "metadata": {
    "collapsed": false
   },
   "outputs": [
    {
     "data": {
      "text/plain": [
       "7980425"
      ]
     },
     "execution_count": 13,
     "metadata": {},
     "output_type": "execute_result"
    }
   ],
   "source": [
    "aactFacilities \\\n",
    "  .select('id') \\\n",
    "  .distinct() \\\n",
    "  .count()"
   ]
  },
  {
   "cell_type": "code",
   "execution_count": null,
   "metadata": {
    "collapsed": false
   },
   "outputs": [
    {
     "data": {
      "text/plain": [
       "803755"
      ]
     },
     "execution_count": 15,
     "metadata": {},
     "output_type": "execute_result"
    }
   ],
   "source": [
    "aactFacilities \\\n",
    "  .select(\"name\", \"city\", \"state\", \"zip\", \"country\") \\\n",
    "  .distinct() \\\n",
    "  .count()"
   ]
  },
  {
   "cell_type": "code",
   "execution_count": null,
   "metadata": {
    "collapsed": true
   },
   "outputs": [],
   "source": [
    "aactFacilities \\\n",
    "  .where(aactFacilities$country == 'United States') \\\n",
    "  .write \\\n",
    "  .option(\"partitionBy\", \"state\") \\\n",
    "  .option(\"mode\", \"overwrite\") \\\n",
    "  .parquet(\"gs://daasnerds-cracircle/aact/etl/parquet\")"
   ]
  }
 ],
 "metadata": {
  "kernelspec": {
   "display_name": "Python 2",
   "language": "python",
   "name": "python2"
  },
  "language_info": {
   "codemirror_mode": {
    "name": "ipython",
    "version": 2
   },
   "file_extension": ".py",
   "mimetype": "text/x-python",
   "name": "python",
   "nbconvert_exporter": "python",
   "pygments_lexer": "ipython2",
   "version": "2.7.12"
  }
 },
 "nbformat": 4,
 "nbformat_minor": 2
}
